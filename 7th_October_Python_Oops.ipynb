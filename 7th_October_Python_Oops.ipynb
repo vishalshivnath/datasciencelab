{
 "cells": [
  {
   "cell_type": "code",
   "execution_count": 12,
   "id": "19b7b4aa-f5cc-439e-8d3e-2042d99fe45a",
   "metadata": {},
   "outputs": [
    {
     "name": "stdout",
     "output_type": "stream",
     "text": [
      "30\n"
     ]
    }
   ],
   "source": [
    "#1.Problem 1: Bank Account Create a class representing a bank account with attributes like account number, account holder name, and balance. \n",
    "#Implement methods to deposit and withdraw money from the account.\n",
    "\n",
    "class BankAccount :\n",
    "    accountNumber = ''\n",
    "    accountHolderName = ''\n",
    "    accountBalance = 0\n",
    "    \n",
    "    def __init__(self, accountNumber , accountHolderName):\n",
    "        self.accountNumber = accountNumber\n",
    "        self.accountHolderName = accountHolderName\n",
    "        \n",
    "    def depositeMoney(self,deposite):\n",
    "        self.accountBalance = self.accountBalance + deposite\n",
    "        \n",
    "    def balance(self):\n",
    "        print(self.accountBalance)\n",
    "\n",
    "\n",
    "obj_BankAccount = BankAccount(11010,\"vishal\")\n",
    "obj_BankAccount.depositeMoney(10)\n",
    "obj_BankAccount.depositeMoney(20)\n",
    "obj_BankAccount.balance()\n",
    "        "
   ]
  },
  {
   "cell_type": "code",
   "execution_count": 21,
   "id": "de89c3bf-853e-4d00-8271-729cbeb516cc",
   "metadata": {},
   "outputs": [
    {
     "name": "stdout",
     "output_type": "stream",
     "text": [
      "Employee ID : 1 Employee Name : vishal Employee Salary : 100000 Employee Bonus : 10000.0\n"
     ]
    }
   ],
   "source": [
    "#Problem 2: Employee Management Create a class representing an employee with attributes like employee ID, name, and salary. Implement methods to calculate the yearly bonus and display employee details.\n",
    "\n",
    "class Employee :\n",
    "    employeeId = ''\n",
    "    employeeName = ''\n",
    "    employeeSalary = 0\n",
    "    yearlyBonus = 0\n",
    "    \n",
    "    def __init__(self, employeeId , employeeName , employeeSalary):\n",
    "        self.employeeId = employeeId\n",
    "        self.employeeName = employeeName\n",
    "        self.employeeSalary = employeeSalary\n",
    "        \n",
    "    def calculateYearlyBonus(self):\n",
    "        self.yearlyBonus = self.employeeSalary * 0.1\n",
    "        \n",
    "    def showEmployeeDetails(self):\n",
    "        print(\"Employee ID :\", self.employeeId, \"Employee Name :\" , self.employeeName, \"Employee Salary :\", self.employeeSalary \n",
    "              , \"Employee Bonus :\", self.yearlyBonus)\n",
    "\n",
    "\n",
    "obj_Employee = Employee(1,\"vishal\",100000)\n",
    "obj_Employee.calculateYearlyBonus()\n",
    "obj_Employee.showEmployeeDetails()"
   ]
  },
  {
   "cell_type": "code",
   "execution_count": 22,
   "id": "82fd56ab-b6c4-4fdc-8bc3-2ae659f173fb",
   "metadata": {},
   "outputs": [
    {
     "name": "stdout",
     "output_type": "stream",
     "text": [
      "Available Vehicles:\n",
      "ID: 101, Type: Sedan\n",
      "ID: 102, Type: SUV\n",
      "ID: 103, Type: Truck\n",
      "Vehicle 101 (Sedan) has been rented.\n",
      "Available Vehicles:\n",
      "ID: 102, Type: SUV\n",
      "ID: 103, Type: Truck\n"
     ]
    }
   ],
   "source": [
    "# Problem 3: Vehicle Rental Create a class representing a vehicle rental system. \n",
    "# Implement methods to rent a vehicle, return a vehicle, and display available vehicles.\n",
    "\n",
    "class VehicleRentalSystem:\n",
    "    def __init__(self):\n",
    "        self.available_vehicles = {}\n",
    "        self.rented_vehicles = {}\n",
    "\n",
    "    def add_vehicle(self, vehicle_id, vehicle_type):\n",
    "        self.available_vehicles[vehicle_id] = vehicle_type\n",
    "\n",
    "    def rent_vehicle(self, vehicle_id):\n",
    "        if vehicle_id in self.available_vehicles:\n",
    "            vehicle_type = self.available_vehicles.pop(vehicle_id)\n",
    "            self.rented_vehicles[vehicle_id] = vehicle_type\n",
    "            return f\"Vehicle {vehicle_id} ({vehicle_type}) has been rented.\"\n",
    "        else:\n",
    "            return f\"Vehicle {vehicle_id} is not available for rent.\"\n",
    "\n",
    "    def return_vehicle(self, vehicle_id):\n",
    "        if vehicle_id in self.rented_vehicles:\n",
    "            vehicle_type = self.rented_vehicles.pop(vehicle_id)\n",
    "            self.available_vehicles[vehicle_id] = vehicle_type\n",
    "            return f\"Vehicle {vehicle_id} ({vehicle_type}) has been returned.\"\n",
    "        else:\n",
    "            return f\"Vehicle {vehicle_id} is not currently rented.\"\n",
    "\n",
    "    def display_available_vehicles(self):\n",
    "        print(\"Available Vehicles:\")\n",
    "        for vehicle_id, vehicle_type in self.available_vehicles.items():\n",
    "            print(f\"ID: {vehicle_id}, Type: {vehicle_type}\")\n",
    "\n",
    "# Usage example:\n",
    "vehicle_rental = VehicleRentalSystem()\n",
    "\n",
    "# Add vehicles to the system\n",
    "vehicle_rental.add_vehicle('101', 'Sedan')\n",
    "vehicle_rental.add_vehicle('102', 'SUV')\n",
    "vehicle_rental.add_vehicle('103', 'Truck')\n",
    "\n",
    "# Display available vehicles\n",
    "vehicle_rental.display_available_vehicles()\n",
    "\n",
    "# Rent a vehicle\n",
    "print(vehicle_rental.rent_vehicle('101'))  \n",
    "\n",
    "# Display available vehicles after returning\n",
    "vehicle_rental.display_available_vehicles()\n",
    "\n"
   ]
  },
  {
   "cell_type": "code",
   "execution_count": 19,
   "id": "c9059c8d-5e86-4e47-a17d-1e2a49c4ae24",
   "metadata": {},
   "outputs": [
    {
     "name": "stdout",
     "output_type": "stream",
     "text": [
      "harryPotter\n",
      "JamesBond\n",
      "SecretOfSuccess\n"
     ]
    }
   ],
   "source": [
    "# Problem 4: Library Catalog Create classes representing a library and a book. \n",
    "# Implement methods to add books to the library, borrow books, and display available books.\n",
    "\n",
    "class LibraryCatalog :\n",
    "   \n",
    "    def __init__(self):\n",
    "        self.books = {}\n",
    "    \n",
    "    def addBook(self,bookname):\n",
    "        self.books[bookname] = \"false\"\n",
    "    \n",
    "    def borrowBook(self,bookname) :\n",
    "        self.books[bookname] = \"true\"\n",
    "        \n",
    "    def displayAvailableBooks(self) :\n",
    "        for x, y in self.books.items():\n",
    "            if (y !=\"true\") :\n",
    "                print(x)\n",
    "\n",
    "\n",
    "obj_LibraryCatalog = LibraryCatalog()\n",
    "obj_LibraryCatalog.addBook(\"harryPotter\")\n",
    "obj_LibraryCatalog.addBook(\"JamesBond\")\n",
    "obj_LibraryCatalog.addBook(\"SecretOfSuccess\")\n",
    "obj_LibraryCatalog.addBook(\"RichDadPoorDad\")\n",
    "\n",
    "obj_LibraryCatalog.borrowBook(\"RichDadPoorDad\")\n",
    "\n",
    "obj_LibraryCatalog.displayAvailableBooks()\n",
    "        "
   ]
  },
  {
   "cell_type": "code",
   "execution_count": 18,
   "id": "e436be1e-3beb-4dfa-b936-fad4ff013273",
   "metadata": {},
   "outputs": [
    {
     "name": "stdout",
     "output_type": "stream",
     "text": [
      "Laptop\n",
      "Phone\n",
      "The quantity of Laptop available in inventory is 5.\n",
      "The product Mobile is not in inventory\n",
      "Laptop\n",
      "Phone\n"
     ]
    }
   ],
   "source": [
    "#Problem 5: Product Inventory Create classes representing a product and an inventory system. \n",
    "#Implement methods to add products to the inventory, \n",
    "#update product quantity, and display available products.\n",
    "class ProductInventory :\n",
    "    \n",
    "    def __init__(self):\n",
    "        self.products = {}\n",
    "    \n",
    "    def add_product(self, name , price , quantity):\n",
    "        self.products[name] ={'price':price , 'quantity':quantity}\n",
    "    \n",
    "    def remove_product(self, name ):\n",
    "        if name in self.products:\n",
    "            return f\"The quantity of {name} available is {self.products[name]['quantity']}.\"\n",
    "        else:\n",
    "            return f\"The product {name} is not in inventory\"\n",
    "    \n",
    "    def check_quantity_of_product(self, name):\n",
    "        if name in self.products:\n",
    "            return f\"The quantity of {name} available in inventory is {self.products[name]['quantity']}.\"\n",
    "        else:\n",
    "            return f\"The product {name} is not in inventory\"\n",
    "        \n",
    "    def display_available_products(self):\n",
    "        for x in self.products:\n",
    "            print(x)\n",
    "        \n",
    " \n",
    "\n",
    "# Usage example:\n",
    "inventory = ProductInventory()\n",
    "\n",
    "# Add products to the inventory\n",
    "inventory.add_product(\"Laptop\", 1000, 5)\n",
    "inventory.add_product(\"Phone\", 500, 10)\n",
    "\n",
    "# display products in inventory\n",
    "inventory.display_available_products()\n",
    "\n",
    "# Check quantity of a product\n",
    "print(inventory.check_quantity_of_product(\"Laptop\")) \n",
    "\n",
    "\n",
    "# remove product\n",
    "print(inventory.remove_product(\"Mobile\"))\n",
    "\n",
    "# display products\n",
    "inventory.display_available_products()"
   ]
  },
  {
   "cell_type": "code",
   "execution_count": 1,
   "id": "bccbc1dc-4cb8-4a6d-8697-fe529fb95e12",
   "metadata": {},
   "outputs": [
    {
     "name": "stdout",
     "output_type": "stream",
     "text": [
      "area is  6\n",
      "perimeter is  18\n"
     ]
    }
   ],
   "source": [
    "#Problem 6: Shape Calculation Create a class representing a shape with attributes like length, width, and height. \n",
    "#Implement methods to calculate the area and perimeter of the shape.\n",
    "class shape:\n",
    "    \n",
    "    def __init__(self,length,width,height):\n",
    "        self.length = length\n",
    "        self.width  = width\n",
    "        self.height = height\n",
    "        \n",
    "    def area(self):\n",
    "        return self.length * self.width \n",
    "    \n",
    "    def perimeter(self):\n",
    "        return 2 * ( self.length + self.width + self.height )\n",
    "    \n",
    "    \n",
    "cube = shape(2,3,4)\n",
    "\n",
    "print(\"area is \", cube.area())\n",
    "\n",
    "print(\"perimeter is \", cube.perimeter())\n",
    "    \n",
    "        \n",
    "    "
   ]
  },
  {
   "cell_type": "code",
   "execution_count": 32,
   "id": "b0e1a8ba-517e-4b75-be0f-f431beec56f2",
   "metadata": {},
   "outputs": [
    {
     "name": "stdout",
     "output_type": "stream",
     "text": [
      "average grade is  180\n",
      "The student id of 1  name jose\n",
      "The student id of 2  name hela\n"
     ]
    }
   ],
   "source": [
    "# Problem 7: Student Management Create a class representing a student with attributes like student ID, name, and grades.\n",
    "# Implement methods to calculate the average grade and display student details.\n",
    "\n",
    "class classofstudent:\n",
    "    \n",
    "    def __init__(self):\n",
    "        self.student = {}\n",
    "        \n",
    "    def addstudent(self, studentid, studentname, studentgrades):\n",
    "        self.student[studentid] = {'name': studentname , 'grade' : studentgrades}\n",
    "\n",
    "    def averagegrade(self):\n",
    "        average = 0\n",
    "        for studentid in self.student:\n",
    "            average = average + self.student[studentid]['grade']\n",
    "        return average\n",
    "    \n",
    "    def displaystudentdetails(self):\n",
    "        for studentid in self.student:\n",
    "            print(f\"The student id of {studentid}  name {self.student[studentid]['name']}\")\n",
    "\n",
    "            \n",
    "# Usage example:\n",
    "class1 = classofstudent()\n",
    "\n",
    "# Add products to the inventory\n",
    "class1.addstudent(1,'jose',100)\n",
    "class1.addstudent(2, 'hela' , 80)\n",
    "\n",
    "\n",
    "print(\"average grade is \", class1.averagegrade())\n",
    "\n",
    "class1.displaystudentdetails()\n",
    "\n",
    "\n",
    "        "
   ]
  },
  {
   "cell_type": "code",
   "execution_count": null,
   "id": "cd72f6d4-0b1a-4887-b8fb-539b2c20ec29",
   "metadata": {},
   "outputs": [],
   "source": [
    "# Problem 8: Email Management Create a class representing an email with attributes like sender, \n",
    "# recipient, and subject. Implement methods to send an email and display email details.\n",
    "import smtplib\n",
    "from email.mime.text import MIMEText\n",
    "from email.mime.multipart import MIMEMultipart\n",
    "\n",
    "class email:\n",
    "    \n",
    "    def __init__(self, smtp_server, smtp_port, username, password):\n",
    "        self.smtp_server = smtp_server\n",
    "        self.smtp_port = smtp_port\n",
    "        self.username = username\n",
    "        self.password = password\n",
    "        \n",
    "    def sendemail(self,sender , receiver , subject , message):\n",
    "        email_content = MIMEMultipart()\n",
    "        email_content['From'] = sender\n",
    "        email_content['To'] =  receiver\n",
    "        email_content['Subject'] = subject\n",
    "\n",
    "        body = MIMEText(message, 'plain')\n",
    "        email_content.attach(body)\n",
    "        \n",
    "        # Connect to the SMTP server\n",
    "        with smtplib.SMTP(self.smtp_server, self.smtp_port) as server:\n",
    "            server.starttls()\n",
    "            server.login(self.username, self.password)\n",
    "            server.sendmail(self.username, to_email, email_content.as_string())\n",
    "\n",
    "\n",
    "            \n",
    "# Usage example:\n",
    "email_sender = email('smtp.google.com', 587, 'test@example.com', 'password')\n",
    "\n",
    "from_email = 'sender@example.com'\n",
    "to_email = 'recipient@example.com'\n",
    "subject = 'Test Email'\n",
    "message = 'This is a test email sent from Python.'\n",
    "\n",
    "email_sender.sendemail(from_email, to_email, subject, message)\n"
   ]
  },
  {
   "cell_type": "code",
   "execution_count": 5,
   "id": "50824e99-a79b-467c-9933-cee9d89b61cd",
   "metadata": {},
   "outputs": [
    {
     "name": "stdout",
     "output_type": "stream",
     "text": [
      "his field of work is history\n",
      "he works in science field\n",
      "watching film with fun\n"
     ]
    },
    {
     "data": {
      "text/plain": [
       "'his field of work is history'"
      ]
     },
     "execution_count": 5,
     "metadata": {},
     "output_type": "execute_result"
    }
   ],
   "source": [
    "# Problem 9: Social Media Profile Create a class representing a social media profile with \n",
    "# attributes like username and posts. Implement methods to add posts, display posts, \n",
    "# and search for posts by keyword.\n",
    "\n",
    "class socialmediaprofile:\n",
    "    \n",
    "    def __init__(self , username):\n",
    "        self.username = username\n",
    "        self.posts = []\n",
    "        \n",
    "    def addpost(self , post):\n",
    "        self.posts.append(post)\n",
    "    \n",
    "    def displaypost(self):\n",
    "        for post in self.posts:\n",
    "            print(post)\n",
    "            \n",
    "    def searchpost(self, keyword):\n",
    "        for post in self.posts:\n",
    "            if( post.find(keyword) != -1 ):\n",
    "                return post\n",
    "            else:\n",
    "                print(\"\")\n",
    "        \n",
    "            \n",
    "s1 = socialmediaprofile(\"john\")\n",
    "s1.addpost(\"his field of work is history\")\n",
    "s1.addpost(\"he works in science field\")\n",
    "s1.addpost(\"watching film with fun\")\n",
    "\n",
    "s1.displaypost()\n",
    "\n",
    "s1.searchpost(\"history\")\n",
    "\n"
   ]
  },
  {
   "cell_type": "code",
   "execution_count": 21,
   "id": "ac7f0fdf-6af5-4a4a-a118-2c3cb0f419a1",
   "metadata": {},
   "outputs": [
    {
     "name": "stdout",
     "output_type": "stream",
     "text": [
      "1 completehomework 02-20-2010\n",
      "3 driving 02-20-2010\n"
     ]
    }
   ],
   "source": [
    "# Problem 10: ToDo List Create a class representing a ToDo list with attributes like tasks and due dates.\n",
    "# Implement methods to add tasks, mark tasks as completed, and display pending tasks.\n",
    "from datetime import date\n",
    "\n",
    "class todo:\n",
    "    \n",
    "    def __init__(self):\n",
    "        self.tasks = {}\n",
    "        \n",
    "    def addtask(self, taskid, task , duedate , status):\n",
    "        self.tasks[taskid] = { 'task' : task , 'duedate': duedate , 'status': status }\n",
    "    \n",
    "    def completetask( self , taskid) :\n",
    "        self.tasks[taskid]['status'] = 'completed'\n",
    "    \n",
    "    def displaypendingtasks(self):\n",
    "        for taskid in self.tasks:\n",
    "            if ( self.tasks[taskid]['status'] == \"new\" ):\n",
    "                print(f\"{taskid} {self.tasks[taskid]['task']} {self.tasks[taskid]['duedate']}\")\n",
    "            \n",
    "\n",
    "# define objects\n",
    "\n",
    "obj_todo = todo()\n",
    "obj_todo.addtask(1,\"completehomework\", \"02-20-2010\" , \"new\")\n",
    "obj_todo.addtask(2,\"office\", \"02-20-2010\" , \"new\")\n",
    "obj_todo.addtask(3,\"driving\", \"02-20-2010\" , \"new\")\n",
    "\n",
    "obj_todo.completetask(2)\n",
    "\n",
    "obj_todo.displaypendingtasks()"
   ]
  },
  {
   "cell_type": "code",
   "execution_count": null,
   "id": "de8d1ef4-064e-4238-8d96-3625cd8e6ebc",
   "metadata": {},
   "outputs": [],
   "source": []
  },
  {
   "cell_type": "code",
   "execution_count": null,
   "id": "c2bc52fc-ae41-41d1-8ce0-3f115e8e55fc",
   "metadata": {},
   "outputs": [],
   "source": []
  }
 ],
 "metadata": {
  "kernelspec": {
   "display_name": "Python 3 (ipykernel)",
   "language": "python",
   "name": "python3"
  },
  "language_info": {
   "codemirror_mode": {
    "name": "ipython",
    "version": 3
   },
   "file_extension": ".py",
   "mimetype": "text/x-python",
   "name": "python",
   "nbconvert_exporter": "python",
   "pygments_lexer": "ipython3",
   "version": "3.10.8"
  }
 },
 "nbformat": 4,
 "nbformat_minor": 5
}
