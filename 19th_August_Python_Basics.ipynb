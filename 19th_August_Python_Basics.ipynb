{
 "cells": [
  {
   "cell_type": "code",
   "execution_count": 11,
   "id": "f9c2e77b-9ca5-4e07-b9e6-63c8dd30da8a",
   "metadata": {},
   "outputs": [
    {
     "name": "stdout",
     "output_type": "stream",
     "text": [
      "The value of x is 2 \n",
      "The value of y is 1 \n"
     ]
    }
   ],
   "source": [
    "#1.Declare two variables, `x` and `y`, and assign them integer values. Swap the values of these variables without using any temporary variable.\n",
    "x=1\n",
    "y=2\n",
    "x=x+y\n",
    "y=x-y\n",
    "x=x-y\n",
    "print(\"The value of x is {} \".format(x))\n",
    "print(\"The value of y is {} \".format(y))"
   ]
  },
  {
   "cell_type": "code",
   "execution_count": 10,
   "id": "519ce1b9-2798-4440-9431-7d7983147c3a",
   "metadata": {},
   "outputs": [
    {
     "name": "stdin",
     "output_type": "stream",
     "text": [
      "Enter length: 10\n",
      "Enter width: 5\n"
     ]
    },
    {
     "name": "stdout",
     "output_type": "stream",
     "text": [
      "The area of rectangle is 50 \n"
     ]
    }
   ],
   "source": [
    "#2.Create a program that calculates the area of a rectangle. Take the length and width as inputs from the user and store them in variables. Calculate and displaythe area.\n",
    "\n",
    "length = int(input(\"Enter length:\"))\n",
    "width = int(input(\"Enter width:\"))\n",
    "area = length * width\n",
    "print(\"The area of rectangle is {} \".format(area))"
   ]
  },
  {
   "cell_type": "code",
   "execution_count": 15,
   "id": "4e5d54bd-899e-4ffe-934b-9e4e6c8d13bf",
   "metadata": {},
   "outputs": [
    {
     "name": "stdin",
     "output_type": "stream",
     "text": [
      "Enter temperature in Celcius: 100.12\n"
     ]
    },
    {
     "name": "stdout",
     "output_type": "stream",
     "text": [
      "The temperature in Fahrenheit is: 212.216 \n"
     ]
    }
   ],
   "source": [
    "#3. Write a Python program that converts temperature from Celsius to Fahrenheit. Take the temperature in Celsius as input, store it in a variable, convert it to Fahrenheit, and display the result.\n",
    "\n",
    "tempatureInCelcius = float(input(\"Enter temperature in Celcius:\"))\n",
    "tempatureInFahrenheit = ( tempatureInCelcius * 9/5) + 32\n",
    "print(\"The temperature in Fahrenheit is: {} \".format(tempatureInFahrenheit))\n"
   ]
  },
  {
   "cell_type": "code",
   "execution_count": 3,
   "id": "ecccb427-1edd-485d-8e27-61466bed7e3c",
   "metadata": {},
   "outputs": [
    {
     "name": "stdin",
     "output_type": "stream",
     "text": [
      "Enter Sample String : hello\n"
     ]
    },
    {
     "name": "stdout",
     "output_type": "stream",
     "text": [
      "The length of string is: 5 \n"
     ]
    }
   ],
   "source": [
    "#TOPIC: PythonBasicsVariable\n",
    "#1.Write a Python program that takes a string as input and prints the length of the string\n",
    "inputString = input(\"Enter Sample String :\")\n",
    "inputStringLength = len(inputString)\n",
    "print(\"The length of string is: {} \".format(inputStringLength))"
   ]
  },
  {
   "cell_type": "code",
   "execution_count": 11,
   "id": "c23df79a-12c2-41a0-8828-b92bca6556c2",
   "metadata": {},
   "outputs": [
    {
     "name": "stdin",
     "output_type": "stream",
     "text": [
      "Enter Sample String : hello worlds is beautiful\n"
     ]
    },
    {
     "name": "stdout",
     "output_type": "stream",
     "text": [
      "9\n"
     ]
    }
   ],
   "source": [
    "#2.Create a program that takes a sentence from the user and counts the number of vowels (a, e, i, o, u) in the string.\n",
    "string = input(\"Enter Sample String :\")\n",
    "vowels = \"aeiouAEIOU\"\n",
    "\n",
    "count = sum(string.count(vowel) for vowel in vowels)\n",
    "print(count)\n",
    "   "
   ]
  },
  {
   "cell_type": "code",
   "execution_count": 5,
   "id": "36e40494-6ea9-4948-af68-0189a6cf60ac",
   "metadata": {},
   "outputs": [
    {
     "name": "stdin",
     "output_type": "stream",
     "text": [
      "Enter Sample String : car\n"
     ]
    },
    {
     "name": "stdout",
     "output_type": "stream",
     "text": [
      "The reversed string is: rac \n"
     ]
    }
   ],
   "source": [
    "#TOPIC: PythonBasicsVariable\n",
    "#3.Given a string, reverse the order of characters using string slicing and print the reversed string.\n",
    "inputString = input(\"Enter Sample String :\")\n",
    "reversedString = inputString[::-1]\n",
    "print(\"The reversed string is: {} \".format(reversedString))"
   ]
  },
  {
   "cell_type": "code",
   "execution_count": 8,
   "id": "9b21a118-bef1-40e3-aeed-699d598ebcef",
   "metadata": {},
   "outputs": [
    {
     "name": "stdin",
     "output_type": "stream",
     "text": [
      "Enter Sample String : Java\n"
     ]
    },
    {
     "name": "stdout",
     "output_type": "stream",
     "text": [
      "The reversed string is: avaJ \n",
      "The input string is not a Palindrome\n"
     ]
    }
   ],
   "source": [
    "#TOPIC: PythonBasicsVariable\n",
    "#4.Write a program that takes a string as input and checks if it is a palindrome (reads the same forwards and backwards).\n",
    "inputString = input(\"Enter Sample String :\")\n",
    "reversedString = inputString[::-1]\n",
    "print(\"The reversed string is: {} \".format(reversedString))\n",
    "if inputString == reversedString:\n",
    "    print(\"The input string is Palindrome\")\n",
    "else:\n",
    "    print(\"The input string is not a Palindrome\")"
   ]
  },
  {
   "cell_type": "code",
   "execution_count": 9,
   "id": "31a5750e-dd8f-41b9-a90e-5fd133733438",
   "metadata": {},
   "outputs": [
    {
     "name": "stdin",
     "output_type": "stream",
     "text": [
      "Enter Sample String : my name is vidhal tyagi\n"
     ]
    },
    {
     "name": "stdout",
     "output_type": "stream",
     "text": [
      "The modified string without spaces is: mynameisvidhaltyagi \n"
     ]
    }
   ],
   "source": [
    "#TOPIC: PythonBasicsVariable\n",
    "#5.Create a program that takes a string as input and removes all the spaces from it. Print the modified string without spaces.\n",
    "inputString = input(\"Enter Sample String :\")\n",
    "modifiedStringWithoutSpaces = inputString.replace(\" \", \"\")\n",
    "print(\"The modified string without spaces is: {} \".format(modifiedStringWithoutSpaces))\n"
   ]
  },
  {
   "cell_type": "code",
   "execution_count": null,
   "id": "6c86f449-1fbf-40cd-b541-794ee1b7fa31",
   "metadata": {},
   "outputs": [],
   "source": []
  }
 ],
 "metadata": {
  "kernelspec": {
   "display_name": "Python 3 (ipykernel)",
   "language": "python",
   "name": "python3"
  },
  "language_info": {
   "codemirror_mode": {
    "name": "ipython",
    "version": 3
   },
   "file_extension": ".py",
   "mimetype": "text/x-python",
   "name": "python",
   "nbconvert_exporter": "python",
   "pygments_lexer": "ipython3",
   "version": "3.10.8"
  }
 },
 "nbformat": 4,
 "nbformat_minor": 5
}
